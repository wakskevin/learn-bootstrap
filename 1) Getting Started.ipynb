{
 "cells": [
  {
   "attachments": {},
   "cell_type": "markdown",
   "metadata": {},
   "source": [
    "# <center>Getting Started</center>"
   ]
  },
  {
   "attachments": {},
   "cell_type": "markdown",
   "metadata": {},
   "source": [
    "## [Installation Options](https://go.raybo.org/49jH)"
   ]
  },
  {
   "attachments": {},
   "cell_type": "markdown",
   "metadata": {},
   "source": [
    "#### 1. Bootstrap CDN"
   ]
  },
  {
   "attachments": {},
   "cell_type": "markdown",
   "metadata": {},
   "source": [
    "- The fastest way is to use CDNs. A **CDN** is a *content delivery network* or a server that hosts libraries like Bootstrap. When using one of these links, the browser checks to see if there's already a copy from when you visited another site."
   ]
  },
  {
   "cell_type": "code",
   "execution_count": null,
   "metadata": {
    "vscode": {
     "languageId": "html"
    }
   },
   "outputs": [],
   "source": [
    "<!DOCTYPE html>\n",
    "<html lang='en' dir='ltr'>\n",
    "\n",
    "<head>\n",
    "    <meta charset='UTF-8'>\n",
    "    <meta http-equiv='X-UA-Compatible' content='IE=edge'>\n",
    "    <meta name='viewport' content='width=device-width, initial-scale=1.0'>\n",
    "    <meta name='keywords' content=''>\n",
    "    <meta name='description' content=''>\n",
    "    <title>Bootstrap 5 Site</title>\n",
    "\n",
    "    <!-- Bootstrap CSS -->\n",
    "    <link href=\"https://cdn.jsdelivr.net/npm/bootstrap@5.3.3/dist/css/bootstrap.min.css\" rel=\"stylesheet\" integrity=\"sha384-QWTKZyjpPEjISv5WaRU9OFeRpok6YctnYmDr5pNlyT2bRjXh0JMhjY6hW+ALEwIH\" crossorigin=\"anonymous\">\n",
    "\n",
    "    <!-- Bootstrap Icons -->\n",
    "    <link rel=\"stylesheet\" href=\"https://cdn.jsdelivr.net/npm/bootstrap-icons@1.11.3/font/bootstrap-icons.min.css\">\n",
    "\n",
    "    <!-- Bootstrap JS -->\n",
    "    <script src=\"https://cdn.jsdelivr.net/npm/bootstrap@5.3.3/dist/js/bootstrap.bundle.min.js\" integrity=\"sha384-YvpcrYf0tY3lHB60NNkmXc5s9fDVZLESaAA55NDzOxhy9GkcIdslK1eN7N6jIeHz\" crossorigin=\"anonymous\" defer></script>\n",
    "</head>\n",
    "\n",
    "<body>\n",
    "    <main class='container mt-4'>\n",
    "        <h1 class='text-primary text-decoration-underline'>Hello World</h1>\n",
    "    </main>\n",
    "</body>\n",
    "\n",
    "</html>"
   ]
  },
  {
   "attachments": {},
   "cell_type": "markdown",
   "metadata": {},
   "source": [
    "- I normally use the CDN links, unless I know I'm going to work offline. Here's a basic template you can use with the CSS and JavaScript installed.\n",
    "- I sneaked in a copy of [Bootstrap Icons](https://icons.getbootstrap.com/) in here, which I really enjoy, but it's also optional, so feel free to remove it.\n",
    "- I almost always have a tag like the main tag here with a class of container which sets up the basic bootstrap grid and some text."
   ]
  },
  {
   "attachments": {},
   "cell_type": "markdown",
   "metadata": {},
   "source": [
    "#### 2. Compiled CSS and JS"
   ]
  },
  {
   "attachments": {},
   "cell_type": "markdown",
   "metadata": {},
   "source": [
    "- You can also install Bootstrap by [downloading](https://github.com/twbs/bootstrap/releases/download/v5.3.0/bootstrap-5.3.0-dist.zip) the pre-compiled CSS and JavaScript files. That works well if you want to work without an internet connection.\n",
    "- When you dowload the zip file from the website you get a ton of files which require some explanation."
   ]
  },
  {
   "attachments": {},
   "cell_type": "markdown",
   "metadata": {},
   "source": [
    "├── css</br>\n",
    "│   ├── bootstrap-grid.css</br>\n",
    "│   ├── bootstrap-grid.css.map</br>\n",
    "│   ├── bootstrap-grid.min.css</br>\n",
    "│   ├── bootstrap-grid.min.css.map</br>\n",
    "│   ├── bootstrap-grid.rtl.css</br>\n",
    "│   ├── bootstrap-grid.rtl.css.map</br>\n",
    "│   ├── bootstrap-grid.rtl.min.css</br>\n",
    "│   ├── bootstrap-grid.rtl.min.css.map</br>\n",
    "│   ├── bootstrap-reboot.css</br>\n",
    "│   ├── bootstrap-reboot.css.map</br>\n",
    "│   ├── bootstrap-reboot.min.css</br>\n",
    "│   ├── bootstrap-reboot.min.css.map</br>\n",
    "│   ├── bootstrap-reboot.rtl.css</br>\n",
    "│   ├── bootstrap-reboot.rtl.css.map</br>\n",
    "│   ├── bootstrap-reboot.rtl.min.css</br>\n",
    "│   ├── bootstrap-reboot.rtl.min.css.map</br>\n",
    "│   ├── bootstrap-utilities.css</br>\n",
    "│   ├── bootstrap-utilities.css.map</br>\n",
    "│   ├── bootstrap-utilities.min.css</br>\n",
    "│   ├── bootstrap-utilities.min.css.map</br>\n",
    "│   ├── bootstrap-utilities.rtl.css</br>\n",
    "│   ├── bootstrap-utilities.rtl.css.map</br>\n",
    "│   ├── bootstrap-utilities.rtl.min.css</br>\n",
    "│   ├── bootstrap-utilities.rtl.min.css.map</br>\n",
    "│   ├── bootstrap.css</br>\n",
    "│   ├── bootstrap.css.map</br>\n",
    "│   ├── `bootstrap.min.css`</br>\n",
    "│   ├── `bootstrap.min.css.map`</br>\n",
    "│   ├── bootstrap.rtl.css</br>\n",
    "│   ├── bootstrap.rtl.css.map</br>\n",
    "│   ├── bootstrap.rtl.min.css</br>\n",
    "│   └── bootstrap.rtl.min.css.map</br>\n",
    "└── js</br>\n",
    "    ├── bootstrap.bundle.js</br>\n",
    "    ├── bootstrap.bundle.js.map</br>\n",
    "    ├── `bootstrap.bundle.min.js`</br>\n",
    "    ├── `bootstrap.bundle.min.js.map`</br>\n",
    "    ├── bootstrap.esm.js</br>\n",
    "    ├── bootstrap.esm.js.map</br>\n",
    "    ├── bootstrap.esm.min.js</br>\n",
    "    ├── bootstrap.esm.min.js.map</br>\n",
    "    ├── bootstrap.js</br>\n",
    "    ├── bootstrap.js.map</br>\n",
    "    ├── bootstrap.min.js</br>\n",
    "    └── bootstrap.min.js.map</br>"
   ]
  },
  {
   "attachments": {},
   "cell_type": "markdown",
   "metadata": {},
   "source": [
    "- Normally I install **bootstrap.min.css** with the **map**. That gives me all of the features and the map makes it easier for me to debug. The minified file is often unreadable, so the map **references the original code**.\n",
    "- In the same way, I would install the minified version of the bootstrap bundle - **bootstrap.bundle.min.js** -with the corresponding **map**. The uniminified bundled version - **bootstrap.bundle.js** - includes the _**Popper**_ Plugin.\n",
    "- Popper, by the way is **a positioning engine** for things like tooltips, popovers and modals."
   ]
  },
  {
   "attachments": {},
   "cell_type": "markdown",
   "metadata": {},
   "source": [
    "- Customized\n",
    "    - **rtl**\n",
    "    \n",
    "    In Bootstrap 5, you have the option of downloading versions of bootstrap that works with languages that use a right to left direction as opposed to the regular left to right direction.</br>\n",
    "    \n",
    "    - **grid**\n",
    "\n",
    "    With CSS, you can also download only the grid system, which bootstrap uses for layout. This will also only include flex, but no other utilities.\n",
    "\n",
    "    - **reboot**\n",
    "\n",
    "    You can also download the reboot css, which helps different browsers have a consistent look and feel.\n",
    "\n",
    "    - **utilities**\n",
    "\n",
    "    Finally, you can load just the items in the utilities section of bootsrap, which are things like flex, borders, colors, sizing, spacing, etc."
   ]
  },
  {
   "attachments": {},
   "cell_type": "markdown",
   "metadata": {},
   "source": [
    "#### 3. Source files"
   ]
  },
  {
   "attachments": {},
   "cell_type": "markdown",
   "metadata": {},
   "source": [
    "bootstrap/<br>\n",
    "├── dist/<br>\n",
    "├── site/<br>\n",
    "├── js/<br>\n",
    "└── scss/<br>\n",
    "\n",
    "- For the ultimate in customization, or if you want to contribute to the project, you can [download](https://github.com/twbs/bootstrap/archive/v5.3.0.zip) the source code, which probably gives you more than what you need. There's a lot of stuff in there, but four main folders you might be interested in.\n",
    "\n",
    "- The **dist** folder has all of the CSS and JS files we went through earlier.\n",
    "\n",
    "- The **site** folder, has all of the documentation, plus some samples...maybe not a bad thing if you're working offline.\n",
    "\n",
    "- And then you get the **js** folder. Now this javascript folder is a bit different than the one in the dist folder. It has each javascript component in a separate file with individual maps and in different versions like for esm or umd loading strategies. Don't mess with that unless you know what you're doing.\n",
    "\n",
    "- The last important folder is the **scss** folder. This has the source files for sass. Again, for advanced users, but you can really customize your version of Bootstrap. There are two important files here. First, the bootstrap.scss file is the entry point for sass. It loads everything else. The second file is variables.scss. It has every variable you can customize to really change the way bootstrap looks.\n"
   ]
  },
  {
   "attachments": {},
   "cell_type": "markdown",
   "metadata": {},
   "source": [
    "#### 4. Build tools"
   ]
  },
  {
   "attachments": {},
   "cell_type": "markdown",
   "metadata": {},
   "source": [
    "- The last way is to use a [package manager](https://getbootstrap.com/docs/5.0/getting-started/build-tools/). That means using something like webpack, parcel, npm or others. It's meant for advanced users who want to really customize things."
   ]
  },
  {
   "cell_type": "code",
   "execution_count": null,
   "metadata": {
    "vscode": {
     "languageId": "shellscript"
    }
   },
   "outputs": [],
   "source": [
    "npm i bootstrap@latest"
   ]
  },
  {
   "attachments": {},
   "cell_type": "markdown",
   "metadata": {},
   "source": [
    "## [Bootstrap Icons](https://go.raybo.org/49pi)"
   ]
  },
  {
   "attachments": {},
   "cell_type": "markdown",
   "metadata": {},
   "source": [
    "- [Bootstrap icons](https://icons.getbootstrap.com/) are a great way to add small graphics to your site. It's another free library from the makers of Bootstrap."
   ]
  },
  {
   "attachments": {},
   "cell_type": "markdown",
   "metadata": {},
   "source": [
    "#### 1. Install"
   ]
  },
  {
   "attachments": {},
   "cell_type": "markdown",
   "metadata": {},
   "source": [
    "- You can [download](https://github.com/twbs/icons/releases/latest/) the icons, which include some fonts."
   ]
  },
  {
   "attachments": {},
   "cell_type": "markdown",
   "metadata": {},
   "source": [
    "- Using Package managers"
   ]
  },
  {
   "cell_type": "code",
   "execution_count": null,
   "metadata": {
    "vscode": {
     "languageId": "shellscript"
    }
   },
   "outputs": [],
   "source": [
    "npm i bootstrap-icons"
   ]
  },
  {
   "attachments": {},
   "cell_type": "markdown",
   "metadata": {},
   "source": [
    "- via a CDN"
   ]
  },
  {
   "cell_type": "code",
   "execution_count": null,
   "metadata": {
    "vscode": {
     "languageId": "html"
    }
   },
   "outputs": [],
   "source": [
    "<link rel=\"stylesheet\" href=\"https://cdn.jsdelivr.net/npm/bootstrap-icons@1.11.3/font/bootstrap-icons.min.css\">"
   ]
  },
  {
   "attachments": {},
   "cell_type": "markdown",
   "metadata": {},
   "source": [
    "#### 2. Usage"
   ]
  },
  {
   "attachments": {},
   "cell_type": "markdown",
   "metadata": {},
   "source": [
    "- [Bootstrap icons](https://icons.getbootstrap.com/) are SVGs, so you can include them into your HTML in a few ways depending on how your project is setup. We recommend using a `width: 1em` (and optionally `height: 1em`) for easy resizing via `font-size`.\n",
    "\n",
    "- Color can be changed by setting a .text-* class (which is talked about in another notebook) or custom CSS:"
   ]
  },
  {
   "attachments": {},
   "cell_type": "markdown",
   "metadata": {},
   "source": [
    "1. **Embedded SVG** - Embed your icons within the HTML of your page (as opposed to an external image file). Here we’ve used a custom width and height."
   ]
  },
  {
   "cell_type": "code",
   "execution_count": null,
   "metadata": {
    "vscode": {
     "languageId": "html"
    }
   },
   "outputs": [],
   "source": [
    "<svg xmlns=\"http://www.w3.org/2000/svg\" width=\"16\" height=\"16\" fill=\"currentColor\"\n",
    "    class=\"bi bi-emoji-heart-eyes\" viewBox=\"0 0 16 16\">\n",
    "    <path d=\"M8 15A7 7 0 1 1 8 1a7 7 0 0 1 0 14zm0 1A8 8 0 1 0 8 0a8 8 0 0 0 0 16z\" />\n",
    "    <path\n",
    "        d=\"M11.315 10.014a.5.5 0 0 1 .548.736A4.498 4.498 0 0 1 7.965 13a4.498 4.498 0 0 1-3.898-2.25.5.5 0 0 1 .548-.736h.005l.017.005.067.015.252.055c.215.046.515.108.857.169.693.124 1.522.242 2.152.242.63 0 1.46-.118 2.152-.242a26.58 26.58 0 0 0 1.109-.224l.067-.015.017-.004.005-.002zM4.756 4.566c.763-1.424 4.02-.12.952 3.434-4.496-1.596-2.35-4.298-.952-3.434zm6.488 0c1.398-.864 3.544 1.838-.952 3.434-3.067-3.554.19-4.858.952-3.434z\" />\n",
    "</svg>"
   ]
  },
  {
   "attachments": {},
   "cell_type": "markdown",
   "metadata": {},
   "source": [
    "2. **Sprites** - Use the SVG sprite to insert any icon through the `<use>` element. Use the icon’s filename as the fragment identifier (e.g., toggles is #toggles). SVG sprites allow you to reference an external file similar to an `<img>` element, but with the power of currentColor for easy theming. \n",
    "\n",
    "    Heads up! There’s an issue with Chrome where [`<use>` doesn’t work across domains](https://bugs.chromium.org/p/chromium/issues/detail?id=470601)."
   ]
  },
  {
   "cell_type": "code",
   "execution_count": null,
   "metadata": {
    "vscode": {
     "languageId": "html"
    }
   },
   "outputs": [],
   "source": [
    "<svg class=\"bi\" width=\"32\" height=\"32\" fill=\"currentColor\">\n",
    "    <use xlink:href=\"bootstrap-icons.svg#heart-fill\" />\n",
    "</svg>\n",
    "<svg class=\"bi\" width=\"32\" height=\"32\" fill=\"currentColor\">\n",
    "    <use xlink:href=\"bootstrap-icons.svg#toggles\" />\n",
    "</svg>\n",
    "<svg class=\"bi\" width=\"32\" height=\"32\" fill=\"currentColor\">\n",
    "    <use xlink:href=\"bootstrap-icons.svg#shop\" />\n",
    "</svg>"
   ]
  },
  {
   "attachments": {},
   "cell_type": "markdown",
   "metadata": {},
   "source": [
    "3. **External Image** - Copy the Bootstrap Icons SVGs to your directory of choice and reference them like normal images with the `<img>` element."
   ]
  },
  {
   "cell_type": "code",
   "execution_count": null,
   "metadata": {
    "vscode": {
     "languageId": "html"
    }
   },
   "outputs": [],
   "source": [
    "<img src=\"/assets/icons/bootstrap.svg\" alt=\"Bootstrap\" width=\"32\" height=\"32\">"
   ]
  },
  {
   "attachments": {},
   "cell_type": "markdown",
   "metadata": {},
   "source": [
    "4. **Icon fonts** - Include the icon web fonts in your page via CSS, then reference the class names as needed in your HTML (e.g., `<i class=\"bi-alarm-clock\"></i>`).\n",
    "\n",
    "    Use `font-size` and `color` to change the icon appearance. "
   ]
  },
  {
   "cell_type": "code",
   "execution_count": null,
   "metadata": {
    "vscode": {
     "languageId": "html"
    }
   },
   "outputs": [],
   "source": [
    "<i class=\"bi-alarm\"></i>"
   ]
  },
  {
   "cell_type": "code",
   "execution_count": null,
   "metadata": {
    "vscode": {
     "languageId": "html"
    }
   },
   "outputs": [],
   "source": [
    "<i class=\"bi-alarm\" style=\"font-size: 2rem; color: cornflowerblue;\"></i>"
   ]
  },
  {
   "attachments": {},
   "cell_type": "markdown",
   "metadata": {},
   "source": [
    "5. **via CSS** - You can also use the SVG within your CSS (be sure to escape any characters, such as `#` to `%23` when specifying hex color values). When no dimensions are specified via `width` and `height` on the `<svg>`, the icon will fill the available space.\n",
    "\n",
    "    The `viewBox` attribute is required if you wish to resize icons with `background-size`. Note that the `xmlns` attribute is required."
   ]
  },
  {
   "cell_type": "code",
   "execution_count": null,
   "metadata": {
    "vscode": {
     "languageId": "html"
    }
   },
   "outputs": [],
   "source": [
    "<style>\n",
    "  .bi::before {\n",
    "  display: inline-block;\n",
    "  content: \"\";\n",
    "  vertical-align: -.125em;\n",
    "  background-image: url(\"data:image/svg+xml,<svg viewBox='0 0 16 16' fill='%23333' xmlns='http://www.w3.org/2000/svg'><path fill-rule='evenodd' d='M8 9.5a1.5 1.5 0 1 0 0-3 1.5 1.5 0 0 0 0 3z' clip-rule='evenodd'/></svg>\");\n",
    "  background-repeat: no-repeat;\n",
    "  background-size: 1rem 1rem;\n",
    "}\n",
    "</style>"
   ]
  },
  {
   "attachments": {},
   "cell_type": "markdown",
   "metadata": {},
   "source": [
    "#### 3. Practice"
   ]
  },
  {
   "attachments": {},
   "cell_type": "markdown",
   "metadata": {},
   "source": [
    "[Icon](https://icons.getbootstrap.com/icons/heart-fill/)\n",
    "\n",
    "1. Add an icon using fonts\n",
    "2. Add an icon using SVGs\n",
    "3. Change icon color/size\n",
    "4. Adjust \n",
    "\n",
    "[End](codepens/Icons.html)"
   ]
  },
  {
   "attachments": {},
   "cell_type": "markdown",
   "metadata": {},
   "source": [
    "## [Reboot & Base Styles](https://go.raybo.org/49qn)"
   ]
  },
  {
   "attachments": {},
   "cell_type": "markdown",
   "metadata": {},
   "source": [
    "- Bootstrap has a set of styles called Reboot that attempt to create a consistent baseline accross browsers. Let's take a look at some of the key features that will help you get building sites quickly."
   ]
  },
  {
   "attachments": {},
   "cell_type": "markdown",
   "metadata": {},
   "source": [
    "- Improvements\n",
    "\n",
    "    1. Use `rem`s instead of `em`s\n",
    "    2. Avoid `margin-top`\n",
    "    3. `inherit` when possible\n",
    "\n",
    "    [Try it](codepens/Reboot_Improvements.html)"
   ]
  },
  {
   "attachments": {},
   "cell_type": "markdown",
   "metadata": {},
   "source": [
    "- There are some really key features that affect all documents. First, Bootstrap modifies browser defaults to use `rem`s instead of `em`s. That makes the defaults a lot more consistent because rems or root ems are **sized according to the default size of the page, which is usually 16 pixels**. Ems on the other hand are relative to the size of their containers, so the size of elements is more consistent when using `rem`s."
   ]
  },
  {
   "attachments": {},
   "cell_type": "markdown",
   "metadata": {},
   "source": [
    "- Another key feature that affects your pages is that reboot **removes `margin-top` from elements**. Margins in HTML collapse, so if you have a headline with 10 pixels of margin at the bottom next to a paragraph with 5 pixels of margin at the top, the size of the margin isn't 15, but 10...in other words, it ignores the smaller margin. By resetting margins to the bottom only, there's less of a chance of having to guess which element controls the margin."
   ]
  },
  {
   "attachments": {},
   "cell_type": "markdown",
   "metadata": {},
   "source": [
    "- One of my favorite features is that almost all styles are set to **inherit** from their parents. That means that bootstrap is much easier to style. If you change the style of a component, anything inside that component will inherit things like fonts, sizes and colors."
   ]
  },
  {
   "attachments": {},
   "cell_type": "markdown",
   "metadata": {},
   "source": [
    "- Defaults\n",
    "\n",
    "    4. Native `sans-serif` fonts\n",
    "    5. Body background `#fff`\n",
    "    6. Box sizing: `border-box`\n",
    "\n",
    "    [Try it](codepens/Reboot_Defaults.html)"
   ]
  },
  {
   "attachments": {},
   "cell_type": "markdown",
   "metadata": {},
   "source": [
    "- One of the quickest ways to tell whether bootstrap is installed or not is to take a look at the font. It defaults to a `sans serif` font instead of the obnoxious times new roman. But it's more than that. It uses the default font of the device instead of something like helvetica. That way, sites load super fast and look great by default.\n",
    "\n",
    "- Another quick way to tell that bootstrap is installed is that the background is set to white. For some crazy reason some browsers default to an ugly gray.\n",
    "\n",
    "- A less apparent change is the default `box-sizing`. That's a property that determines the size of elements. The default value for this property is `content-box`, which honestly is a ridiculous value. If you have a set the width of an element 100 pixel box and then add a 10 pixel padding, the element ends up being 120 pixels wide (10 pixels on each side).\n",
    "\n",
    "- There's a lot of other modifications, but these are probably the most important to note, for more information, take a peek at the [documentation](https://getbootstrap.com/docs/5.3/content/reboot/) which shows you what other default elements look like with reboot."
   ]
  }
 ],
 "metadata": {
  "language_info": {
   "name": "python"
  },
  "orig_nbformat": 4
 },
 "nbformat": 4,
 "nbformat_minor": 2
}
