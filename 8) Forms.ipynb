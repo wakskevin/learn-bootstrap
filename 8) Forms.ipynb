{
 "cells": [
  {
   "attachments": {},
   "cell_type": "markdown",
   "metadata": {},
   "source": [
    "# <center>Forms</center>"
   ]
  },
  {
   "attachments": {},
   "cell_type": "markdown",
   "metadata": {},
   "source": [
    "## [Forms](https://go.raybo.org/4AJV)"
   ]
  },
  {
   "attachments": {},
   "cell_type": "markdown",
   "metadata": {},
   "source": [
    "Bootstrap has it's own custom form styles for consistent display across browsers"
   ]
  },
  {
   "attachments": {},
   "cell_type": "markdown",
   "metadata": {},
   "source": [
    "#### **_Basic Form_**"
   ]
  },
  {
   "attachments": {},
   "cell_type": "markdown",
   "metadata": {},
   "source": [
    "- `form-label`\n",
    "- `form-control`\n",
    "- `form-text`"
   ]
  },
  {
   "attachments": {},
   "cell_type": "markdown",
   "metadata": {},
   "source": [
    "The form tag itself has no special container class since form elements can be used in other elements without a form tag., but for other elements you should use Bootstrap classes to take advantage of the styling.\n",
    "\n",
    "`form-label` goes on the labels\n",
    "\n",
    "`form-control` goes on input fields and other form elements\n",
    "\n",
    "`form-text` - goes on text that you want to be part of the form as information. You can use the `aria-describedby` class that is tied to this help.\n",
    "\n",
    "Other than these fields, make sure you add the proper inputs and create the forms as you normally would in HTML."
   ]
  },
  {
   "attachments": {},
   "cell_type": "markdown",
   "metadata": {},
   "source": [
    "- [**Try it**](./codepens/Basic-Form.html)"
   ]
  },
  {
   "attachments": {},
   "cell_type": "markdown",
   "metadata": {},
   "source": [
    "## [Forms Select and Range](https://go.raybo.org/4AJW)"
   ]
  },
  {
   "attachments": {},
   "cell_type": "markdown",
   "metadata": {},
   "source": [
    "Bootstrap has it's own custom form styles for consistent display accross browsers"
   ]
  },
  {
   "attachments": {},
   "cell_type": "markdown",
   "metadata": {},
   "source": [
    "1. Select\n",
    "2. Range"
   ]
  },
  {
   "attachments": {},
   "cell_type": "markdown",
   "metadata": {},
   "source": [
    "#### **_1. Select_**"
   ]
  },
  {
   "attachments": {},
   "cell_type": "markdown",
   "metadata": {},
   "source": [
    "- `form-select{-SIZ}`\n",
    "\n",
    "    - **SIZ**: `sm lg`"
   ]
  },
  {
   "attachments": {},
   "cell_type": "markdown",
   "metadata": {},
   "source": [
    "You can add a `form-select` class to a select field with two size options.\n",
    "\n",
    "The fields also support attributes like `multiple` and `disabled`."
   ]
  },
  {
   "attachments": {},
   "cell_type": "markdown",
   "metadata": {},
   "source": [
    "- [**Try it**](./codepens/Form-Select.html)"
   ]
  },
  {
   "attachments": {},
   "cell_type": "markdown",
   "metadata": {},
   "source": [
    "#### **_2. Range_**"
   ]
  },
  {
   "attachments": {},
   "cell_type": "markdown",
   "metadata": {},
   "source": [
    "- `form-range`"
   ]
  },
  {
   "attachments": {},
   "cell_type": "markdown",
   "metadata": {},
   "source": [
    "You can also create a range control with the `form-range` class. Bootstrap has a real nice look for the component, but not any options."
   ]
  },
  {
   "attachments": {},
   "cell_type": "markdown",
   "metadata": {},
   "source": [
    "- [**Try it**](./codepens/Form-Ranges.html)"
   ]
  },
  {
   "attachments": {},
   "cell_type": "markdown",
   "metadata": {},
   "source": [
    "## [Floating Labels](https://go.raybo.org/4AJX)"
   ]
  },
  {
   "attachments": {},
   "cell_type": "markdown",
   "metadata": {},
   "source": [
    "I've always loved floating labels on top of input fields, but they're not really accessible. Bootstrap provides them with a few caveats."
   ]
  },
  {
   "attachments": {},
   "cell_type": "markdown",
   "metadata": {},
   "source": [
    "#### **_Floating Labels_**"
   ]
  },
  {
   "attachments": {},
   "cell_type": "markdown",
   "metadata": {},
   "source": [
    "- `form-floating`"
   ]
  },
  {
   "attachments": {},
   "cell_type": "markdown",
   "metadata": {},
   "source": [
    "To create them, you need to have a placeholder on each input and whereas normally add labels before the inputs. With floating labels the inputs must come first. The label doesn't need a form-label class.\n",
    "\n",
    "Check out the cool animation when you fill it out."
   ]
  },
  {
   "attachments": {},
   "cell_type": "markdown",
   "metadata": {},
   "source": [
    "- [**Try it**](./codepens/Floating-Labels.html)"
   ]
  },
  {
   "attachments": {},
   "cell_type": "markdown",
   "metadata": {},
   "source": [
    "## [Checkbox](https://go.raybo.org/4AJY)"
   ]
  },
  {
   "attachments": {},
   "cell_type": "markdown",
   "metadata": {},
   "source": [
    "#### **_Checkbox, Radio and Switches_**"
   ]
  },
  {
   "attachments": {},
   "cell_type": "markdown",
   "metadata": {},
   "source": [
    "- `form-check-{OPT}`\n",
    "\n",
    "    - **OPT**: `label input inline` <br><br>\n",
    "\n",
    "- `form-switch`\n",
    "\n",
    "- `btn-check`"
   ]
  },
  {
   "attachments": {},
   "cell_type": "markdown",
   "metadata": {},
   "source": [
    "Switches are coded exactly the same as checkboxes, except that they have the `form-switch` class added to the `form-check` container.\n",
    "\n",
    "By default `form-check` groups will stack on top of one another, by adding the `form-check-inline` class, the layout of the `form-check` elements appear side by side.\n",
    "\n",
    "The `btn-check` options lets you use buttons instead of checkboxes. I think it's hard to tell the difference between a checked and unchecked button unless you use outlines."
   ]
  },
  {
   "attachments": {},
   "cell_type": "markdown",
   "metadata": {},
   "source": [
    "- [**Try it**](./codepens/Checkboxes-and-Radio.html)"
   ]
  },
  {
   "attachments": {},
   "cell_type": "markdown",
   "metadata": {},
   "source": [
    "## [Input Groups](https://go.raybo.org/4AJZ)"
   ]
  },
  {
   "attachments": {},
   "cell_type": "markdown",
   "metadata": {},
   "source": [
    "Input groups allow you to combine any number of controls into a single line layout. They look great and are easy enough to build"
   ]
  },
  {
   "attachments": {},
   "cell_type": "markdown",
   "metadata": {},
   "source": [
    "#### **_Input Group Classes_**"
   ]
  },
  {
   "attachments": {},
   "cell_type": "markdown",
   "metadata": {},
   "source": [
    "- `input-group{SIZ}`\n",
    "\n",
    "    - **SIZ**: `sm lg`<br><br>\n",
    "\n",
    "- `input-group-text`"
   ]
  },
  {
   "attachments": {},
   "cell_type": "markdown",
   "metadata": {},
   "source": [
    "There are a few special classes.\n",
    "\n",
    "`input-group` - is the main class for the container of the input groups. There are two additional size classes you can use.\n",
    "\n",
    "`input-group-text` - is the class to use when you want to add text to an input group.\n",
    "\n",
    "You can use any background or text color classes and inside you can use any other input control like dropdowns, buttons, checkboxes. Just about anything. The [website](https://getbootstrap.com/docs/5.0/forms/input-group/) has some examples of the different types and I've tried to place a few of them for you here."
   ]
  },
  {
   "attachments": {},
   "cell_type": "markdown",
   "metadata": {},
   "source": [
    "- [**Try it**](./codepens/Input-Groups.html)"
   ]
  },
  {
   "attachments": {},
   "cell_type": "markdown",
   "metadata": {},
   "source": [
    "## [Validation](https://go.raybo.org/4AJa)"
   ]
  },
  {
   "attachments": {},
   "cell_type": "markdown",
   "metadata": {},
   "source": [
    "Bootstrap provides a few classes to give feedback when validation instances take place."
   ]
  },
  {
   "attachments": {},
   "cell_type": "markdown",
   "metadata": {},
   "source": [
    "#### **_Validation Classes_**"
   ]
  },
  {
   "attachments": {},
   "cell_type": "markdown",
   "metadata": {},
   "source": [
    "- `needs-validation`\n",
    "\n",
    "    - `valid-feedback invalid-feedback`\n",
    "    \n",
    "    - `is-invalid is-valid`"
   ]
  },
  {
   "attachments": {},
   "cell_type": "markdown",
   "metadata": {},
   "source": [
    "There are a few special classes for dealing with validation. Remember that by default every browser has it's own HTML validation feedback so in order to get this to work, you're going to need to turn that off.\n",
    "\n",
    "To do that, we can add a class of `needs-validation` to our form and you also need to add the `novalidate` property so that the browser doesn't take over.\n",
    "\n",
    "Inside our form, you can use two additional classes called `valid-feedback` and `invalid-feedback` wherever you want the feedback to appear if someone doesn't fill out the field properly. So in our example, I'm using the required property for this input and then adding valid and invalid feedback.\n",
    "\n",
    "Bootstrap will take care of adding the is-invalid or is-valid classes depending on whether you filled out the input properly. You can target those classes if you want to customize things.\n",
    "\n",
    "This also requires you to add some JavaScript which I've placed here that will make everything work. This JavaScript will go through all the forms in the page, prevent the form submission and activate the feature on any form on the current page."
   ]
  },
  {
   "attachments": {},
   "cell_type": "markdown",
   "metadata": {},
   "source": [
    "- [**Try it**](./codepens/Validation.html)"
   ]
  },
  {
   "cell_type": "markdown",
   "metadata": {},
   "source": []
  }
 ],
 "metadata": {
  "language_info": {
   "name": "python"
  },
  "orig_nbformat": 4
 },
 "nbformat": 4,
 "nbformat_minor": 2
}
